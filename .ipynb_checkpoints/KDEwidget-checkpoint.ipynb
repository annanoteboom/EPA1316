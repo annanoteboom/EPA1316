{
 "cells": [
  {
   "cell_type": "markdown",
   "metadata": {},
   "source": [
    "# KDE widget\n",
    "You can adjust the number of levels and the see-throughness"
   ]
  },
  {
   "cell_type": "code",
   "execution_count": 1,
   "metadata": {},
   "outputs": [],
   "source": [
    "# nbi:hide_in\n",
    "%matplotlib inline\n",
    "\n",
    "import numpy as np\n",
    "import pandas as pd\n",
    "import geopandas as gpd\n",
    "import contextily as cx\n",
    "import seaborn as sns\n",
    "import matplotlib.pyplot as plt\n",
    "from sklearn.cluster import DBSCAN\n",
    "from ipywidgets import interact, fixed"
   ]
  },
  {
   "cell_type": "code",
   "execution_count": 4,
   "metadata": {},
   "outputs": [],
   "source": [
    "# nbi:hide_in\n",
    "call_data = pd.read_csv('Call_17_Pointy')\n",
    "call_data = call_data.rename(columns={'new_index':'index'})\n",
    "call_data = call_data.set_index(call_data['index'])\n",
    "call_data = call_data.drop(columns=['index'])\n",
    "geo_data = gpd.read_file('neighborhoods.shp')\n",
    "the_hague_gdf = gpd.GeoDataFrame({\"geometry\": gpd.points_from_xy(call_data[\"Longitude\"], \n",
    "                                                             call_data[\"Latitude\"])\n",
    "                             }, crs=\"EPSG:4326\"\n",
    "                            ).join(call_data)\n",
    "\n",
    "#crosswalk = gpd.sjoin(the_hague_gdf, geo_data, how=\"inner\")\n",
    "\n",
    "#call_data[\"admin_area\"] = crosswalk[\"neighb_cbs\"]\n",
    "droppable_rows = call_data.loc[(call_data['Latitude'] < 51.7) | (call_data['Latitude'] > 52.2) ]\n",
    "call_data = call_data.drop(droppable_rows.index)\n",
    "#calls_by_neighborhood = call_data.groupby(\"admin_area\").size()\n",
    "# Assign counts into a table of its own \n",
    "# and joins it to the areas table\n",
    "#geo_data = geo_data.join(pd.DataFrame({\"call_count\": calls_by_neighborhood}),\n",
    "#                   on=\"neighb_cbs\")\n",
    "#geo_data[\"area_sqm\"] = geo_data.to_crs(epsg=2459).area * 1e-6\n",
    "#geo_data[\"call_density\"] = geo_data[\"call_count\"] / geo_data[\"area_sqm\"]"
   ]
  },
  {
   "cell_type": "code",
   "execution_count": 10,
   "metadata": {},
   "outputs": [],
   "source": [
    "# nbi:hide_in\n",
    "def kdewidget(db, nlevels,alph):\n",
    "    f, ax = plt.subplots(1, figsize=(12, 12))\n",
    "    # Add KDE layer that displays probability surface\n",
    "    sns.kdeplot(db[\"Longitude\"], \n",
    "            db[\"Latitude\"], \n",
    "            n_levels=nlevels, \n",
    "            shade=True,\n",
    "            alpha=alph,\n",
    "            cmap=\"viridis\"\n",
    "               )\n",
    "    # Remove axis\n",
    "    ax.set_axis_off()\n",
    "    # Add basemap\n",
    "    cx.add_basemap(ax, \n",
    "               crs=\"EPSG:4326\",\n",
    "               source=cx.providers.CartoDB.DarkMatterNoLabels\n",
    "                  )\n",
    "    # Add title of the map\n",
    "    ax.set_title(\"KDE of ambulance calls in The Hague\")\n",
    "    # Draw map\n",
    "    return plt.show()"
   ]
  },
  {
   "cell_type": "code",
   "execution_count": 11,
   "metadata": {},
   "outputs": [
    {
     "data": {
      "application/vnd.jupyter.widget-view+json": {
       "model_id": "6f3bd575024847bea9acd62a000f87ab",
       "version_major": 2,
       "version_minor": 0
      },
      "text/plain": [
       "interactive(children=(IntSlider(value=50, description='nlevels', max=70, min=30, step=10), FloatSlider(value=0…"
      ]
     },
     "metadata": {},
     "output_type": "display_data"
    }
   ],
   "source": [
    "# nbi:hide_in\n",
    "interact(\n",
    "    kdewidget, \n",
    "    db=fixed(call_data),\n",
    "    nlevels=(30, 70, 10),       # Range start/end/step of n_levels\n",
    "    alph=(0.05, 0.95, 0.05) # Range start/end/step of min_samples\n",
    ");"
   ]
  },
  {
   "cell_type": "code",
   "execution_count": null,
   "metadata": {},
   "outputs": [],
   "source": []
  }
 ],
 "metadata": {
  "kernelspec": {
   "display_name": "Python 3",
   "language": "python",
   "name": "python3"
  },
  "language_info": {
   "codemirror_mode": {
    "name": "ipython",
    "version": 3
   },
   "file_extension": ".py",
   "mimetype": "text/x-python",
   "name": "python",
   "nbconvert_exporter": "python",
   "pygments_lexer": "ipython3",
   "version": "3.7.8"
  }
 },
 "nbformat": 4,
 "nbformat_minor": 4
}
